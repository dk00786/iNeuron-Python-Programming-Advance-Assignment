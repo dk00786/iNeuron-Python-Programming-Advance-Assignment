{
 "cells": [
  {
   "cell_type": "markdown",
   "metadata": {},
   "source": [
    "## Programming Assignment_6"
   ]
  },
  {
   "cell_type": "markdown",
   "metadata": {},
   "source": [
    "### Q1. "
   ]
  },
  {
   "cell_type": "markdown",
   "metadata": {},
   "source": [
    "### Ans1"
   ]
  },
  {
   "cell_type": "code",
   "execution_count": 8,
   "metadata": {},
   "outputs": [
    {
     "name": "stdout",
     "output_type": "stream",
     "text": [
      "Enter StrA abcde\n",
      "Enter StrB abcd\n",
      "e\n"
     ]
    }
   ],
   "source": [
    "strA=str(input(\"Enter StrA\"))\n",
    "strB=str(input(\"Enter StrB\"))\n",
    "def findExtraCharcter(strA,strB) :\n",
    "    res = 0\n",
    "    for i in range(0,len(strA)) :\n",
    "        res =res ^ (ord)(strA[i])\n",
    "\n",
    "    for i in range(0,len(strB)) :\n",
    "        res = res ^ (ord)(strB[i])\n",
    "    return ((chr)(res));\n",
    "print(findExtraCharcter(strA, strB))"
   ]
  },
  {
   "cell_type": "code",
   "execution_count": 2,
   "metadata": {},
   "outputs": [
    {
     "name": "stdout",
     "output_type": "stream",
     "text": [
      "Enter StrA \n",
      "Enter StrB y\n",
      "y\n"
     ]
    }
   ],
   "source": [
    "strA=str(input(\"Enter StrA\"))\n",
    "strB=str(input(\"Enter StrB\"))\n",
    "def findExtraCharcter(strA,strB) :\n",
    "    res = 0\n",
    "    for i in range(0,len(strA)) :\n",
    "        res =res ^ (ord)(strA[i])\n",
    "\n",
    "    for i in range(0,len(strB)) :\n",
    "        res = res ^ (ord)(strB[i])\n",
    "    return ((chr)(res));\n",
    "print(findExtraCharcter(strA, strB))"
   ]
  },
  {
   "cell_type": "code",
   "execution_count": 1,
   "metadata": {},
   "outputs": [
    {
     "name": "stdout",
     "output_type": "stream",
     "text": [
      "Enter StrA ae\n",
      "Enter StrB aea\n",
      "a\n"
     ]
    }
   ],
   "source": [
    "strA=str(input(\"Enter StrA\"))\n",
    "strB=str(input(\"Enter StrB\"))\n",
    "def findExtraCharcter(strA,strB) :\n",
    "    res = 0\n",
    "    for i in range(0,len(strA)) :\n",
    "        res =res ^ (ord)(strA[i])\n",
    "\n",
    "    for i in range(0,len(strB)) :\n",
    "        res = res ^ (ord)(strB[i])\n",
    "    return ((chr)(res));\n",
    "print(findExtraCharcter(strA, strB))"
   ]
  },
  {
   "cell_type": "markdown",
   "metadata": {},
   "source": [
    "### Q2.\n",
    "2. Given a function that accepts unlimited arguments, check and count how many data types are in those arguments. Finally return the total in a list.**\n",
    "\n",
    "List order is:\n",
    "\n",
    "[int, str, bool, list, tuple, dictionary]\n",
    "\n",
    "Examples\n",
    "\n",
    "count_datatypes(1, 45, \"Hi\", False) ➞ [2, 1, 1, 0, 0, 0]\n",
    "\n",
    "count_datatypes([10, 20], (\"t\", \"Ok\"), 2, 3, 1) ➞ [3, 0, 0, 1, 1, 0]\n",
    "\n",
    "count_datatypes(\"Hello\", \"Bye\", True, True, False, {\"1\": \"One\", \"2\": \"Two\"}, [1, 3], {\"Brayan\": 18}, 25, 23) ➞ [2, 2, 3, 1, 0, 2]\n",
    "\n",
    "count_datatypes(4, 21, (\"ES\", \"EN\"), (\"a\", \"b\"), False, [1, 2, 3], [4, 5, 6]) ➞ [2, 0, 1, 2, 2, 0]"
   ]
  },
  {
   "cell_type": "markdown",
   "metadata": {},
   "source": [
    "### Ans2"
   ]
  },
  {
   "cell_type": "code",
   "execution_count": 1,
   "metadata": {},
   "outputs": [],
   "source": [
    "order=[int,str,bool,list,tuple,dict]\n",
    "\n",
    "def count_datatypes(*args):\n",
    "    c_int=0\n",
    "    c_str=0\n",
    "    c_bool=0\n",
    "    c_list=0\n",
    "    c_tuple=0\n",
    "    c_dict=0\n",
    "    for i in args:\n",
    "        if type(i)==int:\n",
    "            c_int+=1\n",
    "        if type(i)==str:\n",
    "            c_str+=1\n",
    "        if type(i)==bool:\n",
    "            c_bool+=1\n",
    "        if type(i)==list:\n",
    "            c_list+=1\n",
    "        if type(i)==tuple:\n",
    "            c_tuple+=1\n",
    "        if type(i)==dict:\n",
    "            c_dict+=1\n",
    "    return [c_int,c_str,c_bool,c_list,c_tuple,c_dict]"
   ]
  },
  {
   "cell_type": "code",
   "execution_count": 2,
   "metadata": {},
   "outputs": [
    {
     "data": {
      "text/plain": [
       "[2, 1, 1, 0, 0, 0]"
      ]
     },
     "execution_count": 2,
     "metadata": {},
     "output_type": "execute_result"
    }
   ],
   "source": [
    "count_datatypes(1, 45, \"Hi\", False)"
   ]
  },
  {
   "cell_type": "code",
   "execution_count": 3,
   "metadata": {},
   "outputs": [
    {
     "data": {
      "text/plain": [
       "[3, 0, 0, 1, 1, 0]"
      ]
     },
     "execution_count": 3,
     "metadata": {},
     "output_type": "execute_result"
    }
   ],
   "source": [
    "count_datatypes([10, 20], (\"t\", \"Ok\"), 2, 3, 1)"
   ]
  },
  {
   "cell_type": "code",
   "execution_count": 4,
   "metadata": {},
   "outputs": [
    {
     "data": {
      "text/plain": [
       "[2, 2, 3, 1, 0, 2]"
      ]
     },
     "execution_count": 4,
     "metadata": {},
     "output_type": "execute_result"
    }
   ],
   "source": [
    "count_datatypes(\"Hello\", \"Bye\", True, True, False, {\"1\": \"One\", \"2\": \"Two\"}, [1, 3], {\"Brayan\": 18}, 25, 23) "
   ]
  },
  {
   "cell_type": "code",
   "execution_count": 5,
   "metadata": {},
   "outputs": [
    {
     "data": {
      "text/plain": [
       "[2, 0, 1, 2, 2, 0]"
      ]
     },
     "execution_count": 5,
     "metadata": {},
     "output_type": "execute_result"
    }
   ],
   "source": [
    "count_datatypes(4, 21, (\"ES\", \"EN\"), (\"a\", \"b\"), False, [1, 2, 3], [4, 5, 6])"
   ]
  },
  {
   "cell_type": "markdown",
   "metadata": {},
   "source": [
    "### Q3. \n",
    "A Fibonacci string is a precedence of the Fibonacci series. It works with any two characters of the English alphabet (as opposed to the numbers 0 and 1 in the Fibonacci series) as the initial items and concatenates them together as it progresses in a similar fashion as the Fibonacci series.**\n",
    "\n",
    "Examples\n",
    "\n",
    "fib_str(3, [\"j\", \"h\"]) ➞ \"j, h, hj\"\n",
    "\n",
    "fib_str(5, [\"e\", \"a\"]) ➞ \"e, a, ae, aea, aeaae\"\n",
    "\n",
    "fib_str(6, [\"n\", \"k\"]) ➞ \"n, k, kn, knk, knkkn, knkknknk\""
   ]
  },
  {
   "cell_type": "markdown",
   "metadata": {},
   "source": [
    "### Ans3"
   ]
  },
  {
   "cell_type": "code",
   "execution_count": 1,
   "metadata": {},
   "outputs": [
    {
     "name": "stdout",
     "output_type": "stream",
     "text": [
      "Enter the number3\n",
      "nth Fibonacci sequence is ['j', 'h', 'hj']\n"
     ]
    }
   ],
   "source": [
    "## fib_str(3, [\"j\", \"h\"]) ➞ \"j, h, hj\"\n",
    "n = int(input(\"Enter the number\"))\n",
    "def fib(n):\n",
    "    if n == \"j\":\n",
    "        return [\"j\"]\n",
    "    if n == \"h\":\n",
    "        return [\"j\", \"h\"]\n",
    "    fibs =  [\"j\", \"h\"]\n",
    "    for i in range(1, n-1):\n",
    "        fibs.append(fibs[-1] + fibs[-2])\n",
    "    return fibs\n",
    "print(\"nth Fibonacci sequence is\",fib(n))"
   ]
  },
  {
   "cell_type": "code",
   "execution_count": 6,
   "metadata": {},
   "outputs": [
    {
     "name": "stdout",
     "output_type": "stream",
     "text": [
      "Enter the number5\n",
      "nth Fibonacci sequence is ['e', 'a', 'ae', 'aea', 'aeaae']\n"
     ]
    }
   ],
   "source": [
    "### fib_str(5, [\"e\", \"a\"]) ➞ \"e, a, ae, aea, aeaae\"\n",
    "n = int(input(\"Enter the number\"))\n",
    "def fib(n):\n",
    "    if n == \"e\":\n",
    "        return [\"e\"]\n",
    "    if n == \"a\":\n",
    "        return [\"e\", \"a\"]\n",
    "    fibs = [\"e\", \"a\"]\n",
    "    for i in range(1, n-1):\n",
    "        fibs.append(fibs[-1] + fibs[-2])\n",
    "    return fibs\n",
    "print(\"nth Fibonacci sequence is\",fib(n))"
   ]
  },
  {
   "cell_type": "code",
   "execution_count": 30,
   "metadata": {},
   "outputs": [
    {
     "name": "stdout",
     "output_type": "stream",
     "text": [
      "Enter the number 6\n",
      "nth Fibonacci sequence is ['n', 'k', 'kn', 'knk', 'knkkn', 'knkknknk']\n"
     ]
    }
   ],
   "source": [
    "### fib_str(6, [\"n\", \"k\"]) ➞ \"n, k, kn, knk, knkkn, knkknknk\"\n",
    "n = int(input(\"Enter the number\"))\n",
    "def fib(n):\n",
    "    if n == \"n\":\n",
    "        return [\"n\"]\n",
    "    if n == \"k\":\n",
    "        return [\"n\", \"k\"]\n",
    "    fibs = [\"n\", \"k\"]\n",
    "    for i in range(1, n-1):\n",
    "        fibs.append(fibs[-1] + fibs[-2])\n",
    "    return fibs\n",
    "print(\"nth Fibonacci sequence is\",fib(n))"
   ]
  },
  {
   "cell_type": "markdown",
   "metadata": {},
   "source": [
    "### Q4.\n",
    " Given an integer between 0 and 26, make a variable (self.answer). That variable would be assigned to a string in this format:**\n",
    "\n",
    "\"nines:your answer, threes:your answer, ones:your answer\"\n",
    "\n",
    "You need to find out how many ones, threes, and nines it would at least take for the number of each to add up to the given integer when multiplied by one, three or nine (depends).\n",
    "\n",
    "Examples\n",
    "\n",
    "ones_threes_nines(10) ➞ \"nines:1, threes:0, ones:1\"\n",
    "\n",
    "ones_threes_nines(15) ➞ \"nines:1, threes:2, ones:0\"\n",
    "\n",
    "ones_threes_nines(22) ➞ \"nines:2, threes:1, ones:1\"\n",
    "\n"
   ]
  },
  {
   "cell_type": "markdown",
   "metadata": {},
   "source": [
    "### Ans4"
   ]
  },
  {
   "cell_type": "code",
   "execution_count": null,
   "metadata": {},
   "outputs": [],
   "source": []
  },
  {
   "cell_type": "code",
   "execution_count": null,
   "metadata": {},
   "outputs": [],
   "source": []
  },
  {
   "cell_type": "markdown",
   "metadata": {},
   "source": [
    "### Q5.\n",
    "The Fibonacci sequence is a classic use case for recursive functions since the value of the sequence at a given index is dependent on the sum of the last two values. However, the recursion tree created by solving the Fibonacci sequence recursively can grow quite fast. Therefore it can be important to think about the implications of running a function recursively. Depending on the size of n needed and the capabilities of the system in question you might want to take a different approach.**\n",
    "\n",
    "Write a non-recursive function that takes an integer n and returns the Fibonacci sequence's value at index n.\n",
    "\n",
    "Examples\n",
    "\n",
    "fib(6) ➞ 8\n",
    "\n",
    "0 + 1 = 1, 1 + 1 = 2, 1 + 2 = 3, 2 + 3 = 5, 3 + 5 = 8\n",
    "\n",
    "fib(1) ➞ 1\n",
    "\n",
    "fib(2) ➞ 1"
   ]
  },
  {
   "cell_type": "markdown",
   "metadata": {},
   "source": [
    "### Ans5"
   ]
  },
  {
   "cell_type": "code",
   "execution_count": 6,
   "metadata": {},
   "outputs": [],
   "source": [
    "def fib(num):\n",
    "    a=0\n",
    "    b=1\n",
    "    for i in range(num):\n",
    "        a,b=b,a+b\n",
    "    print(a)"
   ]
  },
  {
   "cell_type": "code",
   "execution_count": 7,
   "metadata": {},
   "outputs": [
    {
     "name": "stdout",
     "output_type": "stream",
     "text": [
      "8\n"
     ]
    }
   ],
   "source": [
    "fib(6)"
   ]
  },
  {
   "cell_type": "code",
   "execution_count": 8,
   "metadata": {},
   "outputs": [
    {
     "name": "stdout",
     "output_type": "stream",
     "text": [
      "1\n"
     ]
    }
   ],
   "source": [
    "fib(1)"
   ]
  },
  {
   "cell_type": "code",
   "execution_count": 9,
   "metadata": {},
   "outputs": [
    {
     "name": "stdout",
     "output_type": "stream",
     "text": [
      "1\n"
     ]
    }
   ],
   "source": [
    "fib(2)"
   ]
  },
  {
   "cell_type": "markdown",
   "metadata": {},
   "source": [
    "### THE END"
   ]
  }
 ],
 "metadata": {
  "kernelspec": {
   "display_name": "Python 3",
   "language": "python",
   "name": "python3"
  },
  "language_info": {
   "codemirror_mode": {
    "name": "ipython",
    "version": 3
   },
   "file_extension": ".py",
   "mimetype": "text/x-python",
   "name": "python",
   "nbconvert_exporter": "python",
   "pygments_lexer": "ipython3",
   "version": "3.8.5"
  }
 },
 "nbformat": 4,
 "nbformat_minor": 4
}
