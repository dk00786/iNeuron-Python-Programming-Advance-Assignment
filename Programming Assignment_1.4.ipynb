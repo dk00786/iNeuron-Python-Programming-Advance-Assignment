{
 "cells": [
  {
   "cell_type": "markdown",
   "metadata": {},
   "source": [
    "## Programming Assignment_4"
   ]
  },
  {
   "cell_type": "markdown",
   "metadata": {},
   "source": [
    "### Q1. In mathematics, the Fibonacci numbers, commonly denoted Fn, form a sequence, called the Fibonacci sequence, such that each number is the sum of the two preceding ones, starting from 0 and 1:\n",
    "\n",
    "\n",
    "The beginning of the sequence is this:\n",
    "\n",
    "0, 1, 1, 2, 3, 5, 8, 13, 21, 34, 55, 89, 144, ...\n",
    "\n",
    "The function fastFib(num) returns the fibonacci number Fn, of the given num as an argument.\n"
   ]
  },
  {
   "cell_type": "markdown",
   "metadata": {},
   "source": [
    "### Ans1"
   ]
  },
  {
   "cell_type": "code",
   "execution_count": 3,
   "metadata": {},
   "outputs": [
    {
     "name": "stdout",
     "output_type": "stream",
     "text": [
      "Enter number 20\n",
      "6765\n"
     ]
    }
   ],
   "source": [
    "num=int(input(\"Enter number\"))\n",
    "def fastFib(num):\n",
    "    if num<0:\n",
    "        print(\"Incorrect input\")\n",
    "    # First Fibonacci number is 0\n",
    "    elif num==0:\n",
    "        return 0\n",
    "    # Second Fibonacci number is 1\n",
    "    elif num==1:\n",
    "        return 1\n",
    "    else:\n",
    "        return fastFib(num-1)+fastFib(num-2)\n",
    " \n",
    " #Driver Program\n",
    "print(fastFib(num))"
   ]
  },
  {
   "cell_type": "markdown",
   "metadata": {},
   "source": [
    "### Q2. Create a function that takes a strings characters as ASCII and returns each characters hexadecimal value as a string"
   ]
  },
  {
   "cell_type": "markdown",
   "metadata": {},
   "source": [
    "### Ans2"
   ]
  },
  {
   "cell_type": "code",
   "execution_count": 4,
   "metadata": {},
   "outputs": [
    {
     "name": "stdout",
     "output_type": "stream",
     "text": [
      "Enter String 1 hello world\n",
      "2068656c6c6f20776f726c64\n"
     ]
    }
   ],
   "source": [
    "ASCII_String=str(input(\"Enter String 1\"))\n",
    "def ASCIItoHEX(ASCII_String):\n",
    " \n",
    "    # Initialize final ASCII_String\n",
    "    hexa = \"\"\n",
    " \n",
    "    # Make a loop to iterate through\n",
    "    # every character of ASCII_String\n",
    "    for i in range(len(ASCII_String)):\n",
    " \n",
    "        # take a char from\n",
    "        # position i of string\n",
    "        ch = ASCII_String[i]\n",
    " \n",
    "        # cast char to integer and\n",
    "        # find its ascii value\n",
    "        in1 = ord(ch)\n",
    "   \n",
    "        # change this ASCII_String value\n",
    "        # integer to hexadecimal value\n",
    "        part = hex(in1).lstrip(\"0x\").rstrip(\"L\")\n",
    " \n",
    "        # add this hexadecimal value\n",
    "        # to final string.\n",
    "        hexa += part\n",
    " \n",
    "    # return the final ASCII_String hex\n",
    "    return hexa\n",
    "   \n",
    "# Driver Function\n",
    "if __name__ == '__main__':\n",
    " \n",
    "    # print the Hex String\n",
    "    print(ASCIItoHEX(ASCII_String))"
   ]
  },
  {
   "cell_type": "markdown",
   "metadata": {},
   "source": [
    "### Q3. Someone has attempted to censor my strings by replacing every vowel with a *, l*k* th*s. Luckily, I've been able to find the vowels that were removed.Given a censored string and a string of the censored vowels, return the original uncensored string.\n"
   ]
  },
  {
   "cell_type": "markdown",
   "metadata": {},
   "source": [
    "### Ans3"
   ]
  },
  {
   "cell_type": "code",
   "execution_count": 8,
   "metadata": {},
   "outputs": [
    {
     "name": "stdout",
     "output_type": "stream",
     "text": [
      "Enter String 1 Wh*r* d*d my v*w*ls g*?\n",
      "Enter String 2eeioeo\n"
     ]
    },
    {
     "data": {
      "text/plain": [
       "' Where did my vowels go?'"
      ]
     },
     "execution_count": 8,
     "metadata": {},
     "output_type": "execute_result"
    }
   ],
   "source": [
    "string1=str(input(\"Enter String 1\"))\n",
    "string2=str(input(\"Enter String 2\"))\n",
    "def uncensor ( string1 , string2 ) :\n",
    "    a = [ ]\n",
    "    b = string2\n",
    "    c = 0\n",
    "    d = \"\"\n",
    "    for i in range ( len ( string1 ) ) :\n",
    "        a.append ( string1 [ i ] )\n",
    "    for i in range ( len ( a ) ) :\n",
    "        if a [ i ] == \"*\" :\n",
    "            a [ i ] = string2 [ c ]\n",
    "            c += 1\n",
    "    for i in range ( len ( a ) ) :\n",
    "        d += a [ i ]\n",
    "    return d\n",
    "uncensor(string1 , string2)"
   ]
  },
  {
   "cell_type": "markdown",
   "metadata": {},
   "source": [
    "### Q4.Write a function that takes an IP address and returns the domain name using PTR DNS records."
   ]
  },
  {
   "cell_type": "markdown",
   "metadata": {},
   "source": [
    "### Ans4"
   ]
  },
  {
   "cell_type": "code",
   "execution_count": 9,
   "metadata": {},
   "outputs": [],
   "source": [
    "import socket"
   ]
  },
  {
   "cell_type": "code",
   "execution_count": 29,
   "metadata": {},
   "outputs": [
    {
     "name": "stdout",
     "output_type": "stream",
     "text": [
      "IP address8.8.8.8\n",
      "dns.google\n"
     ]
    }
   ],
   "source": [
    "IP_address=str(input(\"IP address\"))\n",
    "domain_name = socket.gethostbyaddr(IP_address)[0]\n",
    "def PTRDNS(domain_name):\n",
    "    print(domain_name)\n",
    "PTRDNS(domain_name)"
   ]
  },
  {
   "cell_type": "code",
   "execution_count": null,
   "metadata": {},
   "outputs": [],
   "source": []
  },
  {
   "cell_type": "markdown",
   "metadata": {},
   "source": [
    "### Q5.Create a function that takes an integer n and returns the factorial of factorials. See below examples for a better understanding:"
   ]
  },
  {
   "cell_type": "markdown",
   "metadata": {},
   "source": [
    "### Ans5"
   ]
  },
  {
   "cell_type": "code",
   "execution_count": 15,
   "metadata": {},
   "outputs": [
    {
     "name": "stdout",
     "output_type": "stream",
     "text": [
      "Enter the number 6\n",
      "24883200\n"
     ]
    }
   ],
   "source": [
    "def mulmod(a, b, mod):\n",
    "    res = 0 # Initialize result\n",
    "    a = a % mod\n",
    "    while (b > 0):\n",
    " \n",
    "        # If b is odd, add 'a' to result\n",
    "        if (b % 2 == 1):\n",
    "            res = (res + a) % mod\n",
    " \n",
    "        # Multiply 'a' with 2\n",
    "        a = (a * 2) % mod\n",
    " \n",
    "        # Divide b by 2\n",
    "        b //= 2\n",
    " \n",
    "    # Return result\n",
    "    return res % mod\n",
    " \n",
    "# This function computes factorials and\n",
    "# product by using above function i.e.\n",
    "# modular multiplication\n",
    "def findProduct(N):\n",
    "    # Initialize product and fact with 1\n",
    "    product = 1; fact = 1\n",
    "    MOD = 1e9 + 7\n",
    "    for i in range(1, N+1):\n",
    " \n",
    "        # ith factorial\n",
    "        fact = mulmod(fact, i, MOD)\n",
    " \n",
    "        # product of first i factorials\n",
    "        product = mulmod(product, fact, MOD)\n",
    " \n",
    "        # If at any iteration, product becomes\n",
    "        # divisible by MOD, simply return 0\n",
    "        if not product:\n",
    "            return 0\n",
    "    return int(product)\n",
    "\n",
    "N =int(input(\"Enter the number\"))\n",
    "print(findProduct(N))"
   ]
  },
  {
   "cell_type": "markdown",
   "metadata": {},
   "source": [
    "### THE END"
   ]
  }
 ],
 "metadata": {
  "kernelspec": {
   "display_name": "Python 3",
   "language": "python",
   "name": "python3"
  },
  "language_info": {
   "codemirror_mode": {
    "name": "ipython",
    "version": 3
   },
   "file_extension": ".py",
   "mimetype": "text/x-python",
   "name": "python",
   "nbconvert_exporter": "python",
   "pygments_lexer": "ipython3",
   "version": "3.8.5"
  }
 },
 "nbformat": 4,
 "nbformat_minor": 4
}
